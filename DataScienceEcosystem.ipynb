{
  "metadata": {
    "kernelspec": {
      "name": "python",
      "display_name": "Python (Pyodide)",
      "language": "python"
    },
    "language_info": {
      "codemirror_mode": {
        "name": "python",
        "version": 3
      },
      "file_extension": ".py",
      "mimetype": "text/x-python",
      "name": "python",
      "nbconvert_exporter": "python",
      "pygments_lexer": "ipython3",
      "version": "3.8"
    }
  },
  "nbformat_minor": 5,
  "nbformat": 4,
  "cells": [
    {
      "id": "7c203876-c1e6-4cfe-8afa-499b335b784d",
      "cell_type": "markdown",
      "source": "# Data Science Tools and Ecosystem",
      "metadata": {}
    },
    {
      "id": "9c9834f6-045f-4963-85f4-d6cd192c359c",
      "cell_type": "markdown",
      "source": "#### In this notebook, Data Science Tools and Ecosystem are summarized",
      "metadata": {}
    },
    {
      "id": "2937a689-0f04-4982-b262-f86b3048a641",
      "cell_type": "markdown",
      "source": "Some of the popular languages that Data Scientists use are:\n- Python\n- R \n- Julia\n- Java\n- C\n- C++\n- Swift\n- Go\n- SQL\n- MATLAB",
      "metadata": {}
    },
    {
      "id": "3df5558c-f304-42d2-8120-f686eb8e4055",
      "cell_type": "markdown",
      "source": "Some of the commonly used libraries used by Data Scientists include:\n1. NumPy\n2. Pandas\n3. Matplotlib\n4. Seaborn\n5. SciPy\n6. Scikit Learn\n7. Statsmodels\n8. TensorFlow\n9. Keras \n10. NLTK",
      "metadata": {}
    },
    {
      "id": "5819ca0b-f62e-4581-9c2e-125495cbd2c0",
      "cell_type": "markdown",
      "source": "| Data Science Tools |\n|:------------------:|\n| Python |\n| R |\n| SQL |",
      "metadata": {}
    },
    {
      "id": "6ee335d9-0ab9-456d-93a2-c5fc647cef41",
      "cell_type": "markdown",
      "source": "### Below are a few examples of evaluating arithmetic expressions in Python ",
      "metadata": {}
    },
    {
      "id": "96f5e72b-af2a-4d44-82cd-a3bac82cc900",
      "cell_type": "code",
      "source": "# This a simple arithmetic expression to mutiply then add integers\n(3*4)+5",
      "metadata": {
        "trusted": true
      },
      "outputs": [
        {
          "execution_count": 1,
          "output_type": "execute_result",
          "data": {
            "text/plain": "17"
          },
          "metadata": {}
        }
      ],
      "execution_count": 1
    },
    {
      "id": "ef46a210-5f92-4ac8-a25c-247ec73a8447",
      "cell_type": "code",
      "source": "# This will convert 200 minutes to hours by diving by 60\n200/60 ",
      "metadata": {
        "trusted": true
      },
      "outputs": [
        {
          "execution_count": 3,
          "output_type": "execute_result",
          "data": {
            "text/plain": "3.3333333333333335"
          },
          "metadata": {}
        }
      ],
      "execution_count": 3
    },
    {
      "id": "319cfb1e-e318-4e90-ba9e-82352bf38f4d",
      "cell_type": "markdown",
      "source": "__Objectives:__ \n- List popular languages for Data Science\n- Give examples of evaluating arithmetic expressions\n- Name key data science tools",
      "metadata": {}
    },
    {
      "id": "e4a684a2-fa3d-45bb-b90e-3003e7615c88",
      "cell_type": "markdown",
      "source": "Galina Selyukova",
      "metadata": {}
    },
    {
      "id": "36adf8e9-f2a9-432a-a78c-735030de8c33",
      "cell_type": "code",
      "source": "",
      "metadata": {
        "trusted": true
      },
      "outputs": [],
      "execution_count": null
    }
  ]
}